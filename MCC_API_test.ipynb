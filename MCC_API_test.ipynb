{
  "nbformat": 4,
  "nbformat_minor": 0,
  "metadata": {
    "colab": {
      "name": "MCC_API_test.ipynb",
      "provenance": [],
      "authorship_tag": "ABX9TyMcTJr1EM5VgDW4ekosnPoZ",
      "include_colab_link": true
    },
    "kernelspec": {
      "name": "python3",
      "display_name": "Python 3"
    },
    "language_info": {
      "name": "python"
    }
  },
  "cells": [
    {
      "cell_type": "markdown",
      "metadata": {
        "id": "view-in-github",
        "colab_type": "text"
      },
      "source": [
        "<a href=\"https://colab.research.google.com/github/mtslaugh/Boris-Day/blob/master/MCC_API_test.ipynb\" target=\"_parent\"><img src=\"https://colab.research.google.com/assets/colab-badge.svg\" alt=\"Open In Colab\"/></a>"
      ]
    },
    {
      "cell_type": "markdown",
      "metadata": {
        "id": "IVSk9JmOJAd3"
      },
      "source": [
        "Basic test of API functionality, come back later and figure out how to parse and dump to google docs"
      ]
    },
    {
      "cell_type": "code",
      "metadata": {
        "id": "7i-PV8A8FeZm"
      },
      "source": [
        "import requests"
      ],
      "execution_count": 1,
      "outputs": []
    },
    {
      "cell_type": "code",
      "metadata": {
        "id": "XU1aue3DHlzM"
      },
      "source": [
        "mytag = 'Abogadazo'"
      ],
      "execution_count": 9,
      "outputs": []
    },
    {
      "cell_type": "code",
      "metadata": {
        "colab": {
          "base_uri": "https://localhost:8080/"
        },
        "id": "DmJOSA2uH6qu",
        "outputId": "30f42fc4-15cb-4dc5-97d6-1f13c88b6e69"
      },
      "source": [
        "latest = requests.get('https://halo.api.stdlib.com/mcc@0.1.0/games/latest/',params={'gamertag':mytag})\n",
        "print(latest.content)"
      ],
      "execution_count": 11,
      "outputs": [
        {
          "output_type": "stream",
          "name": "stdout",
          "text": [
            "b'{\"gamertag\":\"Abogadazo\",\"games\":[{\"gameVariant\":\"Slayer\",\"mapId\":155,\"won\":true,\"score\":0,\"kills\":0,\"deaths\":0,\"assists\":0,\"headshots\":0,\"medals\":0,\"killDeathRatio\":0,\"headshotRate\":0,\"playedAt\":\"2021-09-23T05:13:45.015Z\",\"playedAtRecency\":\"0h 14m 36s ago\"}]}'\n"
          ]
        }
      ]
    },
    {
      "cell_type": "code",
      "metadata": {
        "colab": {
          "base_uri": "https://localhost:8080/"
        },
        "id": "Hjx0rL4BGFbV",
        "outputId": "761649ec-a435-4c94-a8d2-0c086c52c6f4"
      },
      "source": [
        "history = requests.get('https://halo.api.stdlib.com/mcc@0.1.0/games/history/',params={'gamertag':mytag})\n",
        "print(history.content)"
      ],
      "execution_count": 10,
      "outputs": [
        {
          "output_type": "stream",
          "name": "stdout",
          "text": [
            "b'{\"gamertag\":\"Abogadazo\",\"summary\":{\"count\":25,\"kills\":143,\"deaths\":311,\"assists\":20,\"headshots\":28,\"medals\":173,\"killDeathRatio\":0.45980707395498394,\"headshotRate\":0.1958041958041958,\"killsPerGame\":5.72,\"deathsPerGame\":12.44,\"assistsPerGame\":0.8,\"headshotsPerGame\":1.12,\"medalsPerGame\":6.92},\"games\":[{\"gameVariant\":\"Slayer\",\"mapId\":155,\"won\":true,\"score\":0,\"kills\":0,\"deaths\":0,\"assists\":0,\"headshots\":0,\"medals\":0,\"killDeathRatio\":0,\"headshotRate\":0,\"playedAt\":\"2021-09-23T05:13:45.015Z\",\"playedAtRecency\":\"0h 13m 13s ago\"},{\"gameVariant\":\"Slayer\",\"mapId\":203,\"won\":false,\"score\":4,\"kills\":4,\"deaths\":11,\"assists\":0,\"headshots\":0,\"medals\":5,\"killDeathRatio\":0.36363636363636365,\"headshotRate\":0,\"playedAt\":\"2021-09-23T03:30:16.314Z\",\"playedAtRecency\":\"1h 56m 42s ago\"},{\"gameVariant\":\"Slayer\",\"mapId\":221,\"won\":false,\"score\":3,\"kills\":6,\"deaths\":13,\"assists\":0,\"headshots\":0,\"medals\":4,\"killDeathRatio\":0.46153846153846156,\"headshotRate\":0,\"playedAt\":\"2021-09-23T03:22:56.264Z\",\"playedAtRecency\":\"2h 4m 2s ago\"},{\"gameVariant\":\"Slayer\",\"mapId\":86,\"won\":false,\"score\":13,\"kills\":13,\"deaths\":16,\"assists\":1,\"headshots\":0,\"medals\":13,\"killDeathRatio\":0.8125,\"headshotRate\":0,\"playedAt\":\"2021-09-23T02:55:40.177Z\",\"playedAtRecency\":\"2h 31m 18s ago\"},{\"gameVariant\":\"Slayer\",\"mapId\":88,\"won\":false,\"score\":6,\"kills\":6,\"deaths\":13,\"assists\":4,\"headshots\":0,\"medals\":0,\"killDeathRatio\":0.46153846153846156,\"headshotRate\":0,\"playedAt\":\"2021-09-16T05:06:51.249Z\",\"playedAtRecency\":\"7d 0h 20m 7s ago\"},{\"gameVariant\":\"Slayer\",\"mapId\":99,\"won\":false,\"score\":8,\"kills\":14,\"deaths\":25,\"assists\":0,\"headshots\":0,\"medals\":11,\"killDeathRatio\":0.56,\"headshotRate\":0,\"playedAt\":\"2021-09-16T04:59:21.869Z\",\"playedAtRecency\":\"7d 0h 27m 36s ago\"},{\"gameVariant\":\"Slayer\",\"mapId\":209,\"won\":false,\"score\":2,\"kills\":2,\"deaths\":7,\"assists\":0,\"headshots\":0,\"medals\":1,\"killDeathRatio\":0.2857142857142857,\"headshotRate\":0,\"playedAt\":\"2021-09-16T04:50:43.868Z\",\"playedAtRecency\":\"7d 0h 36m 14s ago\"},{\"gameVariant\":\"Slayer\",\"mapId\":205,\"won\":false,\"score\":4,\"kills\":4,\"deaths\":11,\"assists\":1,\"headshots\":0,\"medals\":5,\"killDeathRatio\":0.36363636363636365,\"headshotRate\":0,\"playedAt\":\"2021-09-16T04:45:26.448Z\",\"playedAtRecency\":\"7d 0h 41m 32s ago\"},{\"gameVariant\":\"Slayer\",\"mapId\":86,\"won\":false,\"score\":9,\"kills\":9,\"deaths\":12,\"assists\":0,\"headshots\":0,\"medals\":9,\"killDeathRatio\":0.75,\"headshotRate\":0,\"playedAt\":\"2021-09-16T04:01:38.636Z\",\"playedAtRecency\":\"7d 1h 25m 19s ago\"},{\"gameVariant\":\"Slayer\",\"mapId\":86,\"won\":false,\"score\":10,\"kills\":10,\"deaths\":16,\"assists\":2,\"headshots\":0,\"medals\":9,\"killDeathRatio\":0.625,\"headshotRate\":0,\"playedAt\":\"2021-08-19T03:44:24.63Z\",\"playedAtRecency\":\"35d 1h 42m 34s ago\"},{\"gameVariant\":\"Slayer\",\"mapId\":86,\"won\":false,\"score\":11,\"kills\":11,\"deaths\":10,\"assists\":1,\"headshots\":0,\"medals\":12,\"killDeathRatio\":1.1,\"headshotRate\":0,\"playedAt\":\"2021-08-12T03:12:50.749Z\",\"playedAtRecency\":\"42d 2h 14m 7s ago\"},{\"gameVariant\":\"Slayer\",\"mapId\":161,\"won\":false,\"score\":2,\"kills\":2,\"deaths\":14,\"assists\":0,\"headshots\":2,\"medals\":2,\"killDeathRatio\":0.14285714285714285,\"headshotRate\":1,\"playedAt\":\"2021-08-12T02:00:58.034Z\",\"playedAtRecency\":\"42d 3h 26m 0s ago\"},{\"gameVariant\":\"Slayer\",\"mapId\":86,\"won\":false,\"score\":7,\"kills\":7,\"deaths\":12,\"assists\":0,\"headshots\":0,\"medals\":8,\"killDeathRatio\":0.5833333333333334,\"headshotRate\":0,\"playedAt\":\"2021-07-15T04:38:16.579Z\",\"playedAtRecency\":\"70d 0h 48m 42s ago\"},{\"gameVariant\":\"Slayer\",\"mapId\":51,\"won\":true,\"score\":3,\"kills\":3,\"deaths\":11,\"assists\":1,\"headshots\":0,\"medals\":7,\"killDeathRatio\":0.2727272727272727,\"headshotRate\":0,\"playedAt\":\"2021-07-15T03:43:44.467Z\",\"playedAtRecency\":\"70d 1h 43m 14s ago\"},{\"gameVariant\":\"Slayer\",\"mapId\":200,\"won\":true,\"score\":7,\"kills\":7,\"deaths\":9,\"assists\":1,\"headshots\":3,\"medals\":12,\"killDeathRatio\":0.7777777777777778,\"headshotRate\":0.42857142857142855,\"playedAt\":\"2021-07-15T03:33:26.577Z\",\"playedAtRecency\":\"70d 1h 53m 32s ago\"},{\"gameVariant\":\"Slayer\",\"mapId\":198,\"won\":true,\"score\":4,\"kills\":4,\"deaths\":9,\"assists\":0,\"headshots\":2,\"medals\":6,\"killDeathRatio\":0.4444444444444444,\"headshotRate\":0.5,\"playedAt\":\"2021-07-15T03:17:59.231Z\",\"playedAtRecency\":\"70d 2h 8m 59s ago\"},{\"gameVariant\":\"Slayer\",\"mapId\":193,\"won\":true,\"score\":3,\"kills\":3,\"deaths\":12,\"assists\":0,\"headshots\":1,\"medals\":4,\"killDeathRatio\":0.25,\"headshotRate\":0.3333333333333333,\"playedAt\":\"2021-07-15T03:10:33.34Z\",\"playedAtRecency\":\"70d 2h 16m 25s ago\"},{\"gameVariant\":\"Slayer\",\"mapId\":192,\"won\":false,\"score\":4,\"kills\":4,\"deaths\":13,\"assists\":0,\"headshots\":3,\"medals\":6,\"killDeathRatio\":0.3076923076923077,\"headshotRate\":0.75,\"playedAt\":\"2021-07-15T03:04:08.876Z\",\"playedAtRecency\":\"70d 2h 22m 49s ago\"},{\"gameVariant\":\"Slayer\",\"mapId\":118,\"won\":false,\"score\":30,\"kills\":2,\"deaths\":16,\"assists\":0,\"headshots\":1,\"medals\":4,\"killDeathRatio\":0.125,\"headshotRate\":0.5,\"playedAt\":\"2021-07-15T02:55:05.035Z\",\"playedAtRecency\":\"70d 2h 31m 53s ago\"},{\"gameVariant\":\"Slayer\",\"mapId\":122,\"won\":false,\"score\":80,\"kills\":5,\"deaths\":13,\"assists\":2,\"headshots\":2,\"medals\":11,\"killDeathRatio\":0.38461538461538464,\"headshotRate\":0.4,\"playedAt\":\"2021-07-15T02:48:40.891Z\",\"playedAtRecency\":\"70d 2h 38m 17s ago\"},{\"gameVariant\":\"Slayer\",\"mapId\":59,\"won\":false,\"score\":4,\"kills\":4,\"deaths\":18,\"assists\":4,\"headshots\":2,\"medals\":14,\"killDeathRatio\":0.2222222222222222,\"headshotRate\":0.5,\"playedAt\":\"2021-07-08T04:10:47.011Z\",\"playedAtRecency\":\"77d 1h 16m 11s ago\"},{\"gameVariant\":\"Slayer\",\"mapId\":115,\"won\":false,\"score\":8,\"kills\":8,\"deaths\":11,\"assists\":2,\"headshots\":8,\"medals\":14,\"killDeathRatio\":0.7272727272727273,\"headshotRate\":1,\"playedAt\":\"2021-07-08T03:39:51.129Z\",\"playedAtRecency\":\"77d 1h 47m 7s ago\"},{\"gameVariant\":\"Slayer\",\"mapId\":197,\"won\":true,\"score\":7,\"kills\":7,\"deaths\":19,\"assists\":0,\"headshots\":1,\"medals\":8,\"killDeathRatio\":0.3684210526315789,\"headshotRate\":0.14285714285714285,\"playedAt\":\"2021-07-01T05:55:35.28Z\",\"playedAtRecency\":\"83d 23h 31m 23s ago\"},{\"gameVariant\":\"Slayer\",\"mapId\":203,\"won\":false,\"score\":9,\"kills\":4,\"deaths\":10,\"assists\":0,\"headshots\":3,\"medals\":6,\"killDeathRatio\":0.4,\"headshotRate\":0.75,\"playedAt\":\"2021-07-01T05:44:46.084Z\",\"playedAtRecency\":\"83d 23h 42m 12s ago\"},{\"gameVariant\":\"Slayer\",\"mapId\":194,\"won\":false,\"score\":4,\"kills\":4,\"deaths\":10,\"assists\":1,\"headshots\":0,\"medals\":2,\"killDeathRatio\":0.4,\"headshotRate\":0,\"playedAt\":\"2021-07-01T05:01:11.402Z\",\"playedAtRecency\":\"84d 0h 25m 47s ago\"}]}'\n"
          ]
        }
      ]
    },
    {
      "cell_type": "code",
      "metadata": {
        "colab": {
          "base_uri": "https://localhost:8080/"
        },
        "id": "BU_hRqtGGbPj",
        "outputId": "f5c1e9be-3b2c-4dee-f4fc-7778b365b660"
      },
      "source": [
        "stats = requests.get('https://halo.api.stdlib.com/mcc@0.1.0/stats/',params={'gamertag':mytag})\n",
        "print(stats.content)"
      ],
      "execution_count": 13,
      "outputs": [
        {
          "output_type": "stream",
          "name": "stdout",
          "text": [
            "b'{\"gamertag\":\"Abogadazo\",\"clantag\":\"UNSC\",\"emblem\":\"https://emblems.svc.halowaypoint.com/hmcc/emblems/white_silver_mjolnir-on-steel_star\",\"playtime\":\"10h 19m 35s\",\"gamesPlayed\":69,\"wins\":14,\"losses\":55,\"winRatio\":0.2028985507246377,\"kills\":347,\"deaths\":748,\"killDeathRatio\":0.46390374331550804,\"killsPerGame\":5.028985507246377,\"deathsPerGame\":10.840579710144928,\"last20\":[0,-1,-1,-1,-1,-1,1,-1,-1,0,-1,-1,-1,-1,-1,1,-1,-1,-1,1],\"streak\":\"win 1\"}'\n"
          ]
        }
      ]
    },
    {
      "cell_type": "code",
      "metadata": {
        "colab": {
          "base_uri": "https://localhost:8080/"
        },
        "id": "7o6cBE6PG-cz",
        "outputId": "df5f745b-c2c0-4d78-f9f2-256374816899"
      },
      "source": [
        "squad = requests.get('https://halo.api.stdlib.com/mcc@0.1.0/squad/activity',params={'gamertags':['Abogadazo','UglyCurtains']})\n",
        "print(squad.content)"
      ],
      "execution_count": 14,
      "outputs": [
        {
          "output_type": "stream",
          "name": "stdout",
          "text": [
            "b'{\"gamertags\":[\"Abogadazo\",\"UglyCurtains\"],\"games\":[{\"gamertags\":[\"Abogadazo\"],\"gamertagsAbsent\":[\"UglyCurtains\"],\"gameVariant\":\"Slayer\",\"mapId\":155,\"squadWon\":true,\"playedAt\":\"2021-09-23T05:13:45.015Z\",\"playedAtRecency\":\"0h 18m 28s ago\",\"stats\":[{\"gamertag\":\"Abogadazo\",\"won\":true,\"score\":0,\"kills\":0,\"deaths\":0,\"assists\":0,\"headshots\":0,\"medals\":0,\"killDeathRatio\":0,\"headshotRate\":0}]},{\"gamertags\":[\"Abogadazo\"],\"gamertagsAbsent\":[\"UglyCurtains\"],\"gameVariant\":\"Infection\",\"mapId\":209,\"squadWon\":false,\"playedAt\":\"2021-09-23T04:45:32.285Z\",\"playedAtRecency\":\"0h 46m 41s ago\",\"stats\":[{\"gamertag\":\"Abogadazo\",\"won\":false,\"score\":12,\"kills\":16,\"deaths\":33,\"assists\":1,\"headshots\":0,\"medals\":18,\"killDeathRatio\":0.48484848484848486,\"headshotRate\":0}]},{\"gamertags\":[\"Abogadazo\"],\"gamertagsAbsent\":[\"UglyCurtains\"],\"gameVariant\":\"VIP\",\"mapId\":89,\"squadWon\":false,\"playedAt\":\"2021-09-23T04:26:22.733Z\",\"playedAtRecency\":\"1h 5m 51s ago\",\"stats\":[{\"gamertag\":\"Abogadazo\",\"won\":false,\"score\":5,\"kills\":0,\"deaths\":0,\"assists\":0,\"headshots\":0,\"medals\":0,\"killDeathRatio\":0,\"headshotRate\":0}]},{\"gamertags\":[\"Abogadazo\"],\"gamertagsAbsent\":[\"UglyCurtains\"],\"gameVariant\":\"VIP\",\"mapId\":92,\"squadWon\":false,\"playedAt\":\"2021-09-23T04:21:13.715Z\",\"playedAtRecency\":\"1h 11m 0s ago\",\"stats\":[{\"gamertag\":\"Abogadazo\",\"won\":false,\"score\":6,\"kills\":0,\"deaths\":0,\"assists\":0,\"headshots\":0,\"medals\":0,\"killDeathRatio\":0,\"headshotRate\":0}]},{\"gamertags\":[\"Abogadazo\"],\"gamertagsAbsent\":[\"UglyCurtains\"],\"gameVariant\":\"VIP\",\"mapId\":86,\"squadWon\":true,\"playedAt\":\"2021-09-23T04:16:28.095Z\",\"playedAtRecency\":\"1h 15m 45s ago\",\"stats\":[{\"gamertag\":\"Abogadazo\",\"won\":true,\"score\":10,\"kills\":0,\"deaths\":0,\"assists\":0,\"headshots\":0,\"medals\":0,\"killDeathRatio\":0,\"headshotRate\":0}]},{\"gamertags\":[\"Abogadazo\"],\"gamertagsAbsent\":[\"UglyCurtains\"],\"gameVariant\":\"Infection\",\"mapId\":209,\"squadWon\":false,\"playedAt\":\"2021-09-23T04:09:31.741Z\",\"playedAtRecency\":\"1h 22m 42s ago\",\"stats\":[{\"gamertag\":\"Abogadazo\",\"won\":false,\"score\":3,\"kills\":3,\"deaths\":2,\"assists\":0,\"headshots\":0,\"medals\":3,\"killDeathRatio\":1.5,\"headshotRate\":0}]},{\"gamertags\":[\"Abogadazo\"],\"gamertagsAbsent\":[\"UglyCurtains\"],\"gameVariant\":\"Infection\",\"mapId\":209,\"squadWon\":false,\"playedAt\":\"2021-09-23T04:01:05.552Z\",\"playedAtRecency\":\"1h 31m 8s ago\",\"stats\":[{\"gamertag\":\"Abogadazo\",\"won\":false,\"score\":7,\"kills\":1,\"deaths\":9,\"assists\":0,\"headshots\":0,\"medals\":7,\"killDeathRatio\":0.1111111111111111,\"headshotRate\":0}]},{\"gamertags\":[\"Abogadazo\"],\"gamertagsAbsent\":[\"UglyCurtains\"],\"gameVariant\":\"Infection\",\"mapId\":209,\"squadWon\":false,\"playedAt\":\"2021-09-23T03:46:32.187Z\",\"playedAtRecency\":\"1h 45m 41s ago\",\"stats\":[{\"gamertag\":\"Abogadazo\",\"won\":false,\"score\":0,\"kills\":0,\"deaths\":5,\"assists\":0,\"headshots\":0,\"medals\":0,\"killDeathRatio\":0,\"headshotRate\":0}]},{\"gamertags\":[\"Abogadazo\"],\"gamertagsAbsent\":[\"UglyCurtains\"],\"gameVariant\":\"Slayer\",\"mapId\":203,\"squadWon\":false,\"playedAt\":\"2021-09-23T03:30:16.314Z\",\"playedAtRecency\":\"2h 1m 57s ago\",\"stats\":[{\"gamertag\":\"Abogadazo\",\"won\":false,\"score\":4,\"kills\":4,\"deaths\":11,\"assists\":0,\"headshots\":0,\"medals\":5,\"killDeathRatio\":0.36363636363636365,\"headshotRate\":0}]},{\"gamertags\":[\"Abogadazo\"],\"gamertagsAbsent\":[\"UglyCurtains\"],\"gameVariant\":\"Slayer\",\"mapId\":221,\"squadWon\":false,\"playedAt\":\"2021-09-23T03:22:56.264Z\",\"playedAtRecency\":\"2h 9m 17s ago\",\"stats\":[{\"gamertag\":\"Abogadazo\",\"won\":false,\"score\":3,\"kills\":6,\"deaths\":13,\"assists\":0,\"headshots\":0,\"medals\":4,\"killDeathRatio\":0.46153846153846156,\"headshotRate\":0}]}]}'\n"
          ]
        }
      ]
    },
    {
      "cell_type": "code",
      "metadata": {
        "id": "RfQ2ih7nI7u7"
      },
      "source": [
        ""
      ],
      "execution_count": null,
      "outputs": []
    }
  ]
}